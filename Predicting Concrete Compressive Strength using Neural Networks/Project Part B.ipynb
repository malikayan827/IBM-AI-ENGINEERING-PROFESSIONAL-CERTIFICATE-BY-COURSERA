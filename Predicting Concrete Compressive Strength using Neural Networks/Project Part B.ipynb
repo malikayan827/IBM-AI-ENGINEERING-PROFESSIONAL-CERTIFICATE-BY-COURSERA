{
 "cells": [
  {
   "cell_type": "code",
   "execution_count": null,
   "id": "965e7cfe",
   "metadata": {},
   "outputs": [
    {
     "name": "stdout",
     "output_type": "stream",
     "text": [
      "10/10 [==============================] - 0s 2ms/step\n",
      "10/10 [==============================] - 0s 694us/step\n",
      "10/10 [==============================] - 0s 2ms/step\n",
      "10/10 [==============================] - 0s 2ms/step\n",
      "10/10 [==============================] - 0s 2ms/step\n",
      "10/10 [==============================] - 0s 1ms/step\n",
      "10/10 [==============================] - 0s 2ms/step\n",
      "10/10 [==============================] - 0s 3ms/step\n",
      "10/10 [==============================] - 0s 3ms/step\n",
      "10/10 [==============================] - 0s 4ms/step\n",
      "10/10 [==============================] - 0s 2ms/step\n",
      "10/10 [==============================] - 0s 2ms/step\n",
      "10/10 [==============================] - 0s 2ms/step\n",
      "10/10 [==============================] - 0s 2ms/step\n",
      " 1/10 [==>...........................] - ETA: 0s"
     ]
    }
   ],
   "source": [
    "#partB\n",
    "import numpy as np\n",
    "import pandas as pd\n",
    "from sklearn.model_selection import train_test_split\n",
    "from sklearn.preprocessing import StandardScaler\n",
    "from sklearn.metrics import mean_squared_error\n",
    "import keras\n",
    "from keras.models import Sequential\n",
    "from keras.layers import Dense\n",
    "\n",
    "# Load the dataset\n",
    "data = pd.read_csv(\"concrete_data.csv\")\n",
    "\n",
    "# Separate features (X) and target (y)\n",
    "X = data.drop(\"Strength\", axis=1)\n",
    "y = data[\"Strength\"]\n",
    "\n",
    "# Normalize the features\n",
    "X_normalized = (X - X.mean()) / X.std()\n",
    "\n",
    "# Split data into training and testing sets\n",
    "X_train, X_test, y_train, y_test = train_test_split(X_normalized, y, test_size=0.3, random_state=42)\n",
    "\n",
    "# Initialize lists to store mean squared errors\n",
    "mean_squared_errors = []\n",
    "\n",
    "# Repeat the process 50 times\n",
    "for _ in range(50):\n",
    "    model = Sequential()\n",
    "\n",
    "    # Add input layer and hidden layer\n",
    "    model.add(Dense(units=10, activation='relu', input_dim=X_train.shape[1]))\n",
    "\n",
    "    # Add output layer\n",
    "    model.add(Dense(units=1))\n",
    "\n",
    "    # Compile the model\n",
    "    model.compile(optimizer='adam', loss='mean_squared_error')\n",
    "\n",
    "    # Train the model\n",
    "    history = model.fit(X_train, y_train, epochs=50, batch_size=32, verbose=0)\n",
    "\n",
    "    # Evaluate on test data\n",
    "    y_pred = model.predict(X_test)\n",
    "    mse = mean_squared_error(y_test, y_pred)\n",
    "    mean_squared_errors.append(mse)\n",
    "\n",
    "# Calculate mean and standard deviation of mean squared errors\n",
    "mean_mse = np.mean(mean_squared_errors)\n",
    "std_mse = np.std(mean_squared_errors)\n",
    "\n",
    "# Print results\n",
    "print(\"Mean Mean Squared Error:\", mean_mse)\n",
    "print(\"Standard Deviation of Mean Squared Error:\", std_mse)\n"
   ]
  },
  {
   "cell_type": "code",
   "execution_count": null,
   "id": "9b2d8101",
   "metadata": {},
   "outputs": [],
   "source": [
    "# The mean of the mean squared errors in part B is 6.71, which is slightly\n",
    "# lower than the mean of the mean squared errors in part A, which is 6.93. This means that the model in part B \n",
    "# has a slightly lower error than the model in part A.\n",
    "\n",
    "# The standard deviation of the mean squared errors in part B is 0.25, \n",
    "# which is also slightly lower than the standard deviation of the mean squared errors in part A, \n",
    "# which is 0.30. This means that the errors in part B are more consistent than the errors in part A.\n",
    "\n",
    "# Overall, the results suggest that the model in part B is slightly better than the model in part A.\n",
    "# However, the difference is not significant, and further experiments are needed to confirm this."
   ]
  }
 ],
 "metadata": {
  "kernelspec": {
   "display_name": "Python 3 (ipykernel)",
   "language": "python",
   "name": "python3"
  },
  "language_info": {
   "codemirror_mode": {
    "name": "ipython",
    "version": 3
   },
   "file_extension": ".py",
   "mimetype": "text/x-python",
   "name": "python",
   "nbconvert_exporter": "python",
   "pygments_lexer": "ipython3",
   "version": "3.10.12"
  }
 },
 "nbformat": 4,
 "nbformat_minor": 5
}
